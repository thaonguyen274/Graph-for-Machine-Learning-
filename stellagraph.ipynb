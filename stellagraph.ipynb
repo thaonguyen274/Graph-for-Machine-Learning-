{
  "nbformat": 4,
  "nbformat_minor": 0,
  "metadata": {
    "colab": {
      "provenance": []
    },
    "kernelspec": {
      "name": "python3",
      "display_name": "Python 3"
    },
    "language_info": {
      "name": "python"
    }
  },
  "cells": [
    {
      "cell_type": "code",
      "execution_count": null,
      "metadata": {
        "colab": {
          "base_uri": "https://localhost:8080/"
        },
        "id": "He8Tgn8KjkC_",
        "outputId": "6a82735f-c195-41b3-d7b7-33232df56263"
      },
      "outputs": [
        {
          "output_type": "stream",
          "name": "stdout",
          "text": [
            "\u001b[K     |████████████████████████████████| 414 kB 8.8 MB/s \n",
            "\u001b[K     |████████████████████████████████| 500 kB 49.8 MB/s \n",
            "\u001b[K     |████████████████████████████████| 121 kB 54.9 MB/s \n",
            "\u001b[K     |████████████████████████████████| 1.6 MB 50.3 MB/s \n",
            "\u001b[K     |████████████████████████████████| 83 kB 2.3 MB/s \n",
            "\u001b[K     |████████████████████████████████| 41 kB 596 kB/s \n",
            "\u001b[?25h  Building wheel for mplleaflet (setup.py) ... \u001b[?25l\u001b[?25hdone\n"
          ]
        }
      ],
      "source": [
        "import sys\n",
        "if 'google.colab' in sys.modules:\n",
        "  %pip install -q stellargraph[demos]==1.1.0"
      ]
    },
    {
      "cell_type": "code",
      "source": [
        "import stellargraph as sg\n",
        "import pandas as pd\n",
        "import os\n",
        "\n",
        "import stellargraph as sg\n",
        "from stellargraph.mapper import FullBatchNodeGenerator\n",
        "from stellargraph.layer import GCN\n",
        "\n",
        "from tensorflow.keras import layers, optimizers, losses, metrics, Model\n",
        "from sklearn import preprocessing, model_selection\n",
        "from IPython.display import display, HTML\n",
        "import matplotlib.pyplot as plt\n",
        "%matplotlib inline"
      ],
      "metadata": {
        "id": "Y9FtFXyfjtC8"
      },
      "execution_count": null,
      "outputs": []
    },
    {
      "cell_type": "code",
      "source": [
        "dataset = sg.datasets.Cora()\n",
        "display(HTML(dataset.description))\n",
        "G, node_subjects = dataset.load()"
      ],
      "metadata": {
        "colab": {
          "base_uri": "https://localhost:8080/",
          "height": 52
        },
        "id": "7RXJqWg8j25c",
        "outputId": "3daa146e-d049-4ded-84c8-f8c34b41179c"
      },
      "execution_count": null,
      "outputs": [
        {
          "output_type": "display_data",
          "data": {
            "text/plain": [
              "<IPython.core.display.HTML object>"
            ],
            "text/html": [
              "The Cora dataset consists of 2708 scientific publications classified into one of seven classes. The citation network consists of 5429 links. Each publication in the dataset is described by a 0/1-valued word vector indicating the absence/presence of the corresponding word from the dictionary. The dictionary consists of 1433 unique words."
            ]
          },
          "metadata": {}
        }
      ]
    },
    {
      "cell_type": "code",
      "source": [
        "print(G.info())\n"
      ],
      "metadata": {
        "colab": {
          "base_uri": "https://localhost:8080/"
        },
        "id": "HTHNEPDskSIL",
        "outputId": "086bf73f-3ece-40be-e88e-0693dcac1f66"
      },
      "execution_count": null,
      "outputs": [
        {
          "output_type": "stream",
          "name": "stdout",
          "text": [
            "StellarGraph: Undirected multigraph\n",
            " Nodes: 2708, Edges: 5429\n",
            "\n",
            " Node types:\n",
            "  paper: [2708]\n",
            "    Features: float32 vector, length 1433\n",
            "    Edge types: paper-cites->paper\n",
            "\n",
            " Edge types:\n",
            "    paper-cites->paper: [5429]\n",
            "        Weights: all 1 (default)\n",
            "        Features: none\n"
          ]
        }
      ]
    },
    {
      "cell_type": "code",
      "source": [
        "node_subjects.value_counts().to_frame()\n"
      ],
      "metadata": {
        "colab": {
          "base_uri": "https://localhost:8080/",
          "height": 269
        },
        "id": "gaYdi9Dhkdjr",
        "outputId": "7bda0087-d1b2-4f6b-c91e-65d8e83c2c80"
      },
      "execution_count": null,
      "outputs": [
        {
          "output_type": "execute_result",
          "data": {
            "text/plain": [
              "                        subject\n",
              "Neural_Networks             818\n",
              "Probabilistic_Methods       426\n",
              "Genetic_Algorithms          418\n",
              "Theory                      351\n",
              "Case_Based                  298\n",
              "Reinforcement_Learning      217\n",
              "Rule_Learning               180"
            ],
            "text/html": [
              "\n",
              "  <div id=\"df-de2236fe-a956-48a7-9f4a-2860037b9658\">\n",
              "    <div class=\"colab-df-container\">\n",
              "      <div>\n",
              "<style scoped>\n",
              "    .dataframe tbody tr th:only-of-type {\n",
              "        vertical-align: middle;\n",
              "    }\n",
              "\n",
              "    .dataframe tbody tr th {\n",
              "        vertical-align: top;\n",
              "    }\n",
              "\n",
              "    .dataframe thead th {\n",
              "        text-align: right;\n",
              "    }\n",
              "</style>\n",
              "<table border=\"1\" class=\"dataframe\">\n",
              "  <thead>\n",
              "    <tr style=\"text-align: right;\">\n",
              "      <th></th>\n",
              "      <th>subject</th>\n",
              "    </tr>\n",
              "  </thead>\n",
              "  <tbody>\n",
              "    <tr>\n",
              "      <th>Neural_Networks</th>\n",
              "      <td>818</td>\n",
              "    </tr>\n",
              "    <tr>\n",
              "      <th>Probabilistic_Methods</th>\n",
              "      <td>426</td>\n",
              "    </tr>\n",
              "    <tr>\n",
              "      <th>Genetic_Algorithms</th>\n",
              "      <td>418</td>\n",
              "    </tr>\n",
              "    <tr>\n",
              "      <th>Theory</th>\n",
              "      <td>351</td>\n",
              "    </tr>\n",
              "    <tr>\n",
              "      <th>Case_Based</th>\n",
              "      <td>298</td>\n",
              "    </tr>\n",
              "    <tr>\n",
              "      <th>Reinforcement_Learning</th>\n",
              "      <td>217</td>\n",
              "    </tr>\n",
              "    <tr>\n",
              "      <th>Rule_Learning</th>\n",
              "      <td>180</td>\n",
              "    </tr>\n",
              "  </tbody>\n",
              "</table>\n",
              "</div>\n",
              "      <button class=\"colab-df-convert\" onclick=\"convertToInteractive('df-de2236fe-a956-48a7-9f4a-2860037b9658')\"\n",
              "              title=\"Convert this dataframe to an interactive table.\"\n",
              "              style=\"display:none;\">\n",
              "        \n",
              "  <svg xmlns=\"http://www.w3.org/2000/svg\" height=\"24px\"viewBox=\"0 0 24 24\"\n",
              "       width=\"24px\">\n",
              "    <path d=\"M0 0h24v24H0V0z\" fill=\"none\"/>\n",
              "    <path d=\"M18.56 5.44l.94 2.06.94-2.06 2.06-.94-2.06-.94-.94-2.06-.94 2.06-2.06.94zm-11 1L8.5 8.5l.94-2.06 2.06-.94-2.06-.94L8.5 2.5l-.94 2.06-2.06.94zm10 10l.94 2.06.94-2.06 2.06-.94-2.06-.94-.94-2.06-.94 2.06-2.06.94z\"/><path d=\"M17.41 7.96l-1.37-1.37c-.4-.4-.92-.59-1.43-.59-.52 0-1.04.2-1.43.59L10.3 9.45l-7.72 7.72c-.78.78-.78 2.05 0 2.83L4 21.41c.39.39.9.59 1.41.59.51 0 1.02-.2 1.41-.59l7.78-7.78 2.81-2.81c.8-.78.8-2.07 0-2.86zM5.41 20L4 18.59l7.72-7.72 1.47 1.35L5.41 20z\"/>\n",
              "  </svg>\n",
              "      </button>\n",
              "      \n",
              "  <style>\n",
              "    .colab-df-container {\n",
              "      display:flex;\n",
              "      flex-wrap:wrap;\n",
              "      gap: 12px;\n",
              "    }\n",
              "\n",
              "    .colab-df-convert {\n",
              "      background-color: #E8F0FE;\n",
              "      border: none;\n",
              "      border-radius: 50%;\n",
              "      cursor: pointer;\n",
              "      display: none;\n",
              "      fill: #1967D2;\n",
              "      height: 32px;\n",
              "      padding: 0 0 0 0;\n",
              "      width: 32px;\n",
              "    }\n",
              "\n",
              "    .colab-df-convert:hover {\n",
              "      background-color: #E2EBFA;\n",
              "      box-shadow: 0px 1px 2px rgba(60, 64, 67, 0.3), 0px 1px 3px 1px rgba(60, 64, 67, 0.15);\n",
              "      fill: #174EA6;\n",
              "    }\n",
              "\n",
              "    [theme=dark] .colab-df-convert {\n",
              "      background-color: #3B4455;\n",
              "      fill: #D2E3FC;\n",
              "    }\n",
              "\n",
              "    [theme=dark] .colab-df-convert:hover {\n",
              "      background-color: #434B5C;\n",
              "      box-shadow: 0px 1px 3px 1px rgba(0, 0, 0, 0.15);\n",
              "      filter: drop-shadow(0px 1px 2px rgba(0, 0, 0, 0.3));\n",
              "      fill: #FFFFFF;\n",
              "    }\n",
              "  </style>\n",
              "\n",
              "      <script>\n",
              "        const buttonEl =\n",
              "          document.querySelector('#df-de2236fe-a956-48a7-9f4a-2860037b9658 button.colab-df-convert');\n",
              "        buttonEl.style.display =\n",
              "          google.colab.kernel.accessAllowed ? 'block' : 'none';\n",
              "\n",
              "        async function convertToInteractive(key) {\n",
              "          const element = document.querySelector('#df-de2236fe-a956-48a7-9f4a-2860037b9658');\n",
              "          const dataTable =\n",
              "            await google.colab.kernel.invokeFunction('convertToInteractive',\n",
              "                                                     [key], {});\n",
              "          if (!dataTable) return;\n",
              "\n",
              "          const docLinkHtml = 'Like what you see? Visit the ' +\n",
              "            '<a target=\"_blank\" href=https://colab.research.google.com/notebooks/data_table.ipynb>data table notebook</a>'\n",
              "            + ' to learn more about interactive tables.';\n",
              "          element.innerHTML = '';\n",
              "          dataTable['output_type'] = 'display_data';\n",
              "          await google.colab.output.renderOutput(dataTable, element);\n",
              "          const docLink = document.createElement('div');\n",
              "          docLink.innerHTML = docLinkHtml;\n",
              "          element.appendChild(docLink);\n",
              "        }\n",
              "      </script>\n",
              "    </div>\n",
              "  </div>\n",
              "  "
            ]
          },
          "metadata": {},
          "execution_count": 9
        }
      ]
    },
    {
      "cell_type": "code",
      "source": [
        "train_subjects, test_subjects = model_selection.train_test_split(\n",
        "    node_subjects, train_size=140, test_size=None, stratify=node_subjects\n",
        ")\n",
        "val_subjects, test_subjects = model_selection.train_test_split(\n",
        "    test_subjects, train_size=500, test_size=None, stratify=test_subjects\n",
        ")"
      ],
      "metadata": {
        "id": "DsnaY9V3k5JL"
      },
      "execution_count": null,
      "outputs": []
    },
    {
      "cell_type": "code",
      "source": [
        "target_encoding = preprocessing.LabelBinarizer()\n",
        "\n",
        "train_targets = target_encoding.fit_transform(train_subjects)\n",
        "val_targets = target_encoding.transform(val_subjects)\n",
        "test_targets = target_encoding.transform(test_subjects)"
      ],
      "metadata": {
        "id": "gOU7pv-Tkf-7"
      },
      "execution_count": null,
      "outputs": []
    },
    {
      "cell_type": "code",
      "source": [
        "generator = FullBatchNodeGenerator(G, method=\"gcn\")\n"
      ],
      "metadata": {
        "colab": {
          "base_uri": "https://localhost:8080/"
        },
        "id": "YgzEtF2Hk0sa",
        "outputId": "48ddcd57-0564-431a-991e-4eb3a2f393c2"
      },
      "execution_count": null,
      "outputs": [
        {
          "output_type": "stream",
          "name": "stdout",
          "text": [
            "Using GCN (local pooling) filters...\n"
          ]
        }
      ]
    },
    {
      "cell_type": "code",
      "source": [
        "train_gen = generator.flow(train_subjects.index, train_targets)\n"
      ],
      "metadata": {
        "id": "b0gZ8PqJlBwq"
      },
      "execution_count": null,
      "outputs": []
    },
    {
      "cell_type": "code",
      "source": [
        "gcn = GCN(\n",
        "    layer_sizes=[16, 16], activations=[\"relu\", \"relu\"], generator=generator, dropout=0.5\n",
        ")"
      ],
      "metadata": {
        "id": "N6DKHQ2wml4q"
      },
      "execution_count": null,
      "outputs": []
    },
    {
      "cell_type": "code",
      "source": [
        "x_inp, x_out = gcn.in_out_tensors()\n",
        "\n",
        "x_out"
      ],
      "metadata": {
        "colab": {
          "base_uri": "https://localhost:8080/"
        },
        "id": "9gvi2mNcmsXK",
        "outputId": "06a13181-a06d-4521-bda4-5639c0d4b6e4"
      },
      "execution_count": null,
      "outputs": [
        {
          "output_type": "execute_result",
          "data": {
            "text/plain": [
              "<KerasTensor: shape=(1, None, 16) dtype=float32 (created by layer 'gather_indices')>"
            ]
          },
          "metadata": {},
          "execution_count": 16
        }
      ]
    },
    {
      "cell_type": "code",
      "source": [
        "predictions = layers.Dense(units=train_targets.shape[1], activation=\"softmax\")(x_out)\n"
      ],
      "metadata": {
        "id": "nuxWAF7ymwwq"
      },
      "execution_count": null,
      "outputs": []
    },
    {
      "cell_type": "code",
      "source": [
        "\n",
        "model = Model(inputs=x_inp, outputs=predictions)\n",
        "model.compile(\n",
        "    optimizer=optimizers.Adam(lr=0.01),\n",
        "    loss=losses.categorical_crossentropy,\n",
        "    metrics=[\"acc\"],\n",
        ")"
      ],
      "metadata": {
        "colab": {
          "base_uri": "https://localhost:8080/"
        },
        "id": "OQ0o2w_kmzGZ",
        "outputId": "6348c621-cd07-4af4-ed19-d3b69bb2207c"
      },
      "execution_count": null,
      "outputs": [
        {
          "output_type": "stream",
          "name": "stderr",
          "text": [
            "/usr/local/lib/python3.8/dist-packages/keras/optimizers/optimizer_v2/adam.py:110: UserWarning: The `lr` argument is deprecated, use `learning_rate` instead.\n",
            "  super(Adam, self).__init__(name, **kwargs)\n"
          ]
        }
      ]
    },
    {
      "cell_type": "code",
      "source": [
        "val_gen = generator.flow(val_subjects.index, val_targets)\n"
      ],
      "metadata": {
        "id": "YwAId64Qm1-J"
      },
      "execution_count": null,
      "outputs": []
    },
    {
      "cell_type": "code",
      "source": [
        "from tensorflow.keras.callbacks import EarlyStopping\n",
        "\n",
        "es_callback = EarlyStopping(monitor=\"val_acc\", patience=50, restore_best_weights=True)"
      ],
      "metadata": {
        "id": "8LU65Dsvm4wa"
      },
      "execution_count": null,
      "outputs": []
    },
    {
      "cell_type": "code",
      "source": [
        "history = model.fit(\n",
        "    train_gen,\n",
        "    epochs=200,\n",
        "    validation_data=val_gen,\n",
        "    verbose=2,\n",
        "    shuffle=False,  # this should be False, since shuffling data means shuffling the whole graph\n",
        "    callbacks=[es_callback],\n",
        ")"
      ],
      "metadata": {
        "colab": {
          "base_uri": "https://localhost:8080/"
        },
        "id": "cD4C6pMim725",
        "outputId": "ce407252-402c-44c3-c1f8-a6c514910099"
      },
      "execution_count": null,
      "outputs": [
        {
          "output_type": "stream",
          "name": "stdout",
          "text": [
            "Epoch 1/200\n",
            "1/1 - 2s - loss: 1.9475 - acc: 0.1286 - val_loss: 1.9016 - val_acc: 0.3900 - 2s/epoch - 2s/step\n",
            "Epoch 2/200\n",
            "1/1 - 0s - loss: 1.8841 - acc: 0.3214 - val_loss: 1.8450 - val_acc: 0.3640 - 175ms/epoch - 175ms/step\n",
            "Epoch 3/200\n",
            "1/1 - 0s - loss: 1.8038 - acc: 0.4429 - val_loss: 1.7850 - val_acc: 0.3780 - 145ms/epoch - 145ms/step\n",
            "Epoch 4/200\n",
            "1/1 - 0s - loss: 1.7205 - acc: 0.4429 - val_loss: 1.7243 - val_acc: 0.3900 - 151ms/epoch - 151ms/step\n",
            "Epoch 5/200\n",
            "1/1 - 0s - loss: 1.6259 - acc: 0.4500 - val_loss: 1.6632 - val_acc: 0.4160 - 149ms/epoch - 149ms/step\n",
            "Epoch 6/200\n",
            "1/1 - 0s - loss: 1.5317 - acc: 0.4571 - val_loss: 1.5982 - val_acc: 0.4400 - 158ms/epoch - 158ms/step\n",
            "Epoch 7/200\n",
            "1/1 - 0s - loss: 1.4345 - acc: 0.5286 - val_loss: 1.5259 - val_acc: 0.4740 - 156ms/epoch - 156ms/step\n",
            "Epoch 8/200\n",
            "1/1 - 0s - loss: 1.3233 - acc: 0.5714 - val_loss: 1.4496 - val_acc: 0.5140 - 147ms/epoch - 147ms/step\n",
            "Epoch 9/200\n",
            "1/1 - 0s - loss: 1.2306 - acc: 0.6071 - val_loss: 1.3723 - val_acc: 0.5320 - 151ms/epoch - 151ms/step\n",
            "Epoch 10/200\n",
            "1/1 - 0s - loss: 1.1452 - acc: 0.6357 - val_loss: 1.2985 - val_acc: 0.5620 - 148ms/epoch - 148ms/step\n",
            "Epoch 11/200\n",
            "1/1 - 0s - loss: 1.0363 - acc: 0.6643 - val_loss: 1.2291 - val_acc: 0.6100 - 153ms/epoch - 153ms/step\n",
            "Epoch 12/200\n",
            "1/1 - 0s - loss: 0.9651 - acc: 0.7357 - val_loss: 1.1609 - val_acc: 0.6500 - 153ms/epoch - 153ms/step\n",
            "Epoch 13/200\n",
            "1/1 - 0s - loss: 0.8877 - acc: 0.7357 - val_loss: 1.0943 - val_acc: 0.6800 - 149ms/epoch - 149ms/step\n",
            "Epoch 14/200\n",
            "1/1 - 0s - loss: 0.7730 - acc: 0.7714 - val_loss: 1.0309 - val_acc: 0.6920 - 156ms/epoch - 156ms/step\n",
            "Epoch 15/200\n",
            "1/1 - 0s - loss: 0.7180 - acc: 0.8357 - val_loss: 0.9734 - val_acc: 0.7020 - 149ms/epoch - 149ms/step\n",
            "Epoch 16/200\n",
            "1/1 - 0s - loss: 0.6554 - acc: 0.8214 - val_loss: 0.9219 - val_acc: 0.7120 - 143ms/epoch - 143ms/step\n",
            "Epoch 17/200\n",
            "1/1 - 0s - loss: 0.5689 - acc: 0.8214 - val_loss: 0.8773 - val_acc: 0.7220 - 161ms/epoch - 161ms/step\n",
            "Epoch 18/200\n",
            "1/1 - 0s - loss: 0.5599 - acc: 0.8286 - val_loss: 0.8405 - val_acc: 0.7360 - 157ms/epoch - 157ms/step\n",
            "Epoch 19/200\n",
            "1/1 - 0s - loss: 0.4731 - acc: 0.8643 - val_loss: 0.8106 - val_acc: 0.7520 - 167ms/epoch - 167ms/step\n",
            "Epoch 20/200\n",
            "1/1 - 0s - loss: 0.4032 - acc: 0.8643 - val_loss: 0.7862 - val_acc: 0.7500 - 142ms/epoch - 142ms/step\n",
            "Epoch 21/200\n",
            "1/1 - 0s - loss: 0.3968 - acc: 0.8857 - val_loss: 0.7665 - val_acc: 0.7660 - 148ms/epoch - 148ms/step\n",
            "Epoch 22/200\n",
            "1/1 - 0s - loss: 0.3451 - acc: 0.9071 - val_loss: 0.7513 - val_acc: 0.7700 - 161ms/epoch - 161ms/step\n",
            "Epoch 23/200\n",
            "1/1 - 0s - loss: 0.3591 - acc: 0.9000 - val_loss: 0.7395 - val_acc: 0.7740 - 152ms/epoch - 152ms/step\n",
            "Epoch 24/200\n",
            "1/1 - 0s - loss: 0.3427 - acc: 0.9000 - val_loss: 0.7280 - val_acc: 0.7840 - 149ms/epoch - 149ms/step\n",
            "Epoch 25/200\n",
            "1/1 - 0s - loss: 0.2376 - acc: 0.9429 - val_loss: 0.7198 - val_acc: 0.7880 - 153ms/epoch - 153ms/step\n",
            "Epoch 26/200\n",
            "1/1 - 0s - loss: 0.2537 - acc: 0.9214 - val_loss: 0.7131 - val_acc: 0.7880 - 147ms/epoch - 147ms/step\n",
            "Epoch 27/200\n",
            "1/1 - 0s - loss: 0.2444 - acc: 0.9429 - val_loss: 0.7074 - val_acc: 0.7900 - 152ms/epoch - 152ms/step\n",
            "Epoch 28/200\n",
            "1/1 - 0s - loss: 0.2004 - acc: 0.9500 - val_loss: 0.7045 - val_acc: 0.7880 - 157ms/epoch - 157ms/step\n",
            "Epoch 29/200\n",
            "1/1 - 0s - loss: 0.1633 - acc: 0.9500 - val_loss: 0.7043 - val_acc: 0.7860 - 145ms/epoch - 145ms/step\n",
            "Epoch 30/200\n",
            "1/1 - 0s - loss: 0.1876 - acc: 0.9500 - val_loss: 0.7034 - val_acc: 0.7940 - 152ms/epoch - 152ms/step\n",
            "Epoch 31/200\n",
            "1/1 - 0s - loss: 0.1860 - acc: 0.9357 - val_loss: 0.6990 - val_acc: 0.7920 - 147ms/epoch - 147ms/step\n",
            "Epoch 32/200\n",
            "1/1 - 0s - loss: 0.1525 - acc: 0.9643 - val_loss: 0.6972 - val_acc: 0.7960 - 154ms/epoch - 154ms/step\n",
            "Epoch 33/200\n",
            "1/1 - 0s - loss: 0.1917 - acc: 0.9500 - val_loss: 0.6975 - val_acc: 0.7960 - 152ms/epoch - 152ms/step\n",
            "Epoch 34/200\n",
            "1/1 - 0s - loss: 0.1451 - acc: 0.9571 - val_loss: 0.7030 - val_acc: 0.7940 - 153ms/epoch - 153ms/step\n",
            "Epoch 35/200\n",
            "1/1 - 0s - loss: 0.1045 - acc: 0.9786 - val_loss: 0.7092 - val_acc: 0.7980 - 149ms/epoch - 149ms/step\n",
            "Epoch 36/200\n",
            "1/1 - 0s - loss: 0.1167 - acc: 0.9643 - val_loss: 0.7193 - val_acc: 0.8040 - 150ms/epoch - 150ms/step\n",
            "Epoch 37/200\n",
            "1/1 - 0s - loss: 0.0810 - acc: 0.9786 - val_loss: 0.7335 - val_acc: 0.8020 - 156ms/epoch - 156ms/step\n",
            "Epoch 38/200\n",
            "1/1 - 0s - loss: 0.0976 - acc: 0.9857 - val_loss: 0.7528 - val_acc: 0.7940 - 149ms/epoch - 149ms/step\n",
            "Epoch 39/200\n",
            "1/1 - 0s - loss: 0.1049 - acc: 0.9714 - val_loss: 0.7699 - val_acc: 0.7900 - 147ms/epoch - 147ms/step\n",
            "Epoch 40/200\n",
            "1/1 - 0s - loss: 0.0821 - acc: 0.9786 - val_loss: 0.7872 - val_acc: 0.7840 - 148ms/epoch - 148ms/step\n",
            "Epoch 41/200\n",
            "1/1 - 0s - loss: 0.1124 - acc: 0.9714 - val_loss: 0.8023 - val_acc: 0.7800 - 153ms/epoch - 153ms/step\n",
            "Epoch 42/200\n",
            "1/1 - 0s - loss: 0.1538 - acc: 0.9357 - val_loss: 0.8094 - val_acc: 0.7860 - 150ms/epoch - 150ms/step\n",
            "Epoch 43/200\n",
            "1/1 - 0s - loss: 0.0685 - acc: 0.9786 - val_loss: 0.8133 - val_acc: 0.7860 - 175ms/epoch - 175ms/step\n",
            "Epoch 44/200\n",
            "1/1 - 0s - loss: 0.0668 - acc: 0.9857 - val_loss: 0.8155 - val_acc: 0.7860 - 149ms/epoch - 149ms/step\n",
            "Epoch 45/200\n",
            "1/1 - 0s - loss: 0.0673 - acc: 0.9857 - val_loss: 0.8179 - val_acc: 0.7880 - 144ms/epoch - 144ms/step\n",
            "Epoch 46/200\n",
            "1/1 - 0s - loss: 0.0462 - acc: 0.9929 - val_loss: 0.8183 - val_acc: 0.7920 - 160ms/epoch - 160ms/step\n",
            "Epoch 47/200\n",
            "1/1 - 0s - loss: 0.0949 - acc: 0.9571 - val_loss: 0.8198 - val_acc: 0.7900 - 155ms/epoch - 155ms/step\n",
            "Epoch 48/200\n",
            "1/1 - 0s - loss: 0.0675 - acc: 0.9786 - val_loss: 0.8226 - val_acc: 0.7880 - 148ms/epoch - 148ms/step\n",
            "Epoch 49/200\n",
            "1/1 - 0s - loss: 0.0821 - acc: 0.9857 - val_loss: 0.8237 - val_acc: 0.7880 - 148ms/epoch - 148ms/step\n",
            "Epoch 50/200\n",
            "1/1 - 0s - loss: 0.0627 - acc: 0.9714 - val_loss: 0.8239 - val_acc: 0.7900 - 150ms/epoch - 150ms/step\n",
            "Epoch 51/200\n",
            "1/1 - 0s - loss: 0.1101 - acc: 0.9714 - val_loss: 0.8200 - val_acc: 0.7980 - 159ms/epoch - 159ms/step\n",
            "Epoch 52/200\n",
            "1/1 - 0s - loss: 0.0436 - acc: 0.9929 - val_loss: 0.8172 - val_acc: 0.7980 - 156ms/epoch - 156ms/step\n",
            "Epoch 53/200\n",
            "1/1 - 0s - loss: 0.0663 - acc: 0.9857 - val_loss: 0.8139 - val_acc: 0.8000 - 143ms/epoch - 143ms/step\n",
            "Epoch 54/200\n",
            "1/1 - 0s - loss: 0.0463 - acc: 0.9857 - val_loss: 0.8109 - val_acc: 0.8020 - 149ms/epoch - 149ms/step\n",
            "Epoch 55/200\n",
            "1/1 - 0s - loss: 0.0461 - acc: 0.9929 - val_loss: 0.8098 - val_acc: 0.7980 - 157ms/epoch - 157ms/step\n",
            "Epoch 56/200\n",
            "1/1 - 0s - loss: 0.0495 - acc: 0.9857 - val_loss: 0.8110 - val_acc: 0.8000 - 155ms/epoch - 155ms/step\n",
            "Epoch 57/200\n",
            "1/1 - 0s - loss: 0.0560 - acc: 0.9857 - val_loss: 0.8140 - val_acc: 0.7960 - 155ms/epoch - 155ms/step\n",
            "Epoch 58/200\n",
            "1/1 - 0s - loss: 0.0350 - acc: 0.9929 - val_loss: 0.8166 - val_acc: 0.7960 - 168ms/epoch - 168ms/step\n",
            "Epoch 59/200\n",
            "1/1 - 0s - loss: 0.0469 - acc: 0.9929 - val_loss: 0.8198 - val_acc: 0.7960 - 148ms/epoch - 148ms/step\n",
            "Epoch 60/200\n",
            "1/1 - 0s - loss: 0.0524 - acc: 0.9857 - val_loss: 0.8208 - val_acc: 0.7960 - 168ms/epoch - 168ms/step\n",
            "Epoch 61/200\n",
            "1/1 - 0s - loss: 0.0406 - acc: 0.9857 - val_loss: 0.8215 - val_acc: 0.7960 - 152ms/epoch - 152ms/step\n",
            "Epoch 62/200\n",
            "1/1 - 0s - loss: 0.0133 - acc: 1.0000 - val_loss: 0.8231 - val_acc: 0.7940 - 148ms/epoch - 148ms/step\n",
            "Epoch 63/200\n",
            "1/1 - 0s - loss: 0.0417 - acc: 0.9857 - val_loss: 0.8247 - val_acc: 0.7940 - 152ms/epoch - 152ms/step\n",
            "Epoch 64/200\n",
            "1/1 - 0s - loss: 0.0429 - acc: 0.9857 - val_loss: 0.8299 - val_acc: 0.7980 - 154ms/epoch - 154ms/step\n",
            "Epoch 65/200\n",
            "1/1 - 0s - loss: 0.0380 - acc: 1.0000 - val_loss: 0.8334 - val_acc: 0.8000 - 153ms/epoch - 153ms/step\n",
            "Epoch 66/200\n",
            "1/1 - 0s - loss: 0.0159 - acc: 1.0000 - val_loss: 0.8382 - val_acc: 0.8000 - 171ms/epoch - 171ms/step\n",
            "Epoch 67/200\n",
            "1/1 - 0s - loss: 0.0324 - acc: 1.0000 - val_loss: 0.8417 - val_acc: 0.8000 - 174ms/epoch - 174ms/step\n",
            "Epoch 68/200\n",
            "1/1 - 0s - loss: 0.0548 - acc: 0.9786 - val_loss: 0.8442 - val_acc: 0.8000 - 154ms/epoch - 154ms/step\n",
            "Epoch 69/200\n",
            "1/1 - 0s - loss: 0.0306 - acc: 0.9929 - val_loss: 0.8457 - val_acc: 0.7980 - 157ms/epoch - 157ms/step\n",
            "Epoch 70/200\n",
            "1/1 - 0s - loss: 0.0262 - acc: 0.9929 - val_loss: 0.8462 - val_acc: 0.7960 - 149ms/epoch - 149ms/step\n",
            "Epoch 71/200\n",
            "1/1 - 0s - loss: 0.0383 - acc: 0.9857 - val_loss: 0.8428 - val_acc: 0.8020 - 155ms/epoch - 155ms/step\n",
            "Epoch 72/200\n",
            "1/1 - 0s - loss: 0.0355 - acc: 0.9929 - val_loss: 0.8381 - val_acc: 0.8000 - 173ms/epoch - 173ms/step\n",
            "Epoch 73/200\n",
            "1/1 - 0s - loss: 0.0591 - acc: 0.9857 - val_loss: 0.8351 - val_acc: 0.7980 - 185ms/epoch - 185ms/step\n",
            "Epoch 74/200\n",
            "1/1 - 0s - loss: 0.0213 - acc: 1.0000 - val_loss: 0.8343 - val_acc: 0.8000 - 246ms/epoch - 246ms/step\n",
            "Epoch 75/200\n",
            "1/1 - 0s - loss: 0.0218 - acc: 1.0000 - val_loss: 0.8343 - val_acc: 0.8020 - 222ms/epoch - 222ms/step\n",
            "Epoch 76/200\n",
            "1/1 - 0s - loss: 0.0293 - acc: 1.0000 - val_loss: 0.8355 - val_acc: 0.8020 - 243ms/epoch - 243ms/step\n",
            "Epoch 77/200\n",
            "1/1 - 0s - loss: 0.0438 - acc: 0.9857 - val_loss: 0.8389 - val_acc: 0.7980 - 252ms/epoch - 252ms/step\n",
            "Epoch 78/200\n",
            "1/1 - 0s - loss: 0.0190 - acc: 0.9929 - val_loss: 0.8409 - val_acc: 0.7980 - 222ms/epoch - 222ms/step\n",
            "Epoch 79/200\n",
            "1/1 - 0s - loss: 0.0381 - acc: 0.9857 - val_loss: 0.8406 - val_acc: 0.8020 - 240ms/epoch - 240ms/step\n",
            "Epoch 80/200\n",
            "1/1 - 0s - loss: 0.0449 - acc: 0.9857 - val_loss: 0.8414 - val_acc: 0.8000 - 227ms/epoch - 227ms/step\n",
            "Epoch 81/200\n",
            "1/1 - 0s - loss: 0.0287 - acc: 0.9929 - val_loss: 0.8382 - val_acc: 0.8020 - 271ms/epoch - 271ms/step\n",
            "Epoch 82/200\n",
            "1/1 - 0s - loss: 0.0484 - acc: 0.9857 - val_loss: 0.8372 - val_acc: 0.8060 - 234ms/epoch - 234ms/step\n",
            "Epoch 83/200\n",
            "1/1 - 0s - loss: 0.0278 - acc: 1.0000 - val_loss: 0.8383 - val_acc: 0.8080 - 196ms/epoch - 196ms/step\n",
            "Epoch 84/200\n",
            "1/1 - 0s - loss: 0.0348 - acc: 0.9857 - val_loss: 0.8408 - val_acc: 0.8020 - 154ms/epoch - 154ms/step\n",
            "Epoch 85/200\n",
            "1/1 - 0s - loss: 0.0336 - acc: 0.9929 - val_loss: 0.8468 - val_acc: 0.8020 - 154ms/epoch - 154ms/step\n",
            "Epoch 86/200\n",
            "1/1 - 0s - loss: 0.0298 - acc: 0.9929 - val_loss: 0.8571 - val_acc: 0.7920 - 146ms/epoch - 146ms/step\n",
            "Epoch 87/200\n",
            "1/1 - 0s - loss: 0.0512 - acc: 0.9714 - val_loss: 0.8686 - val_acc: 0.7920 - 141ms/epoch - 141ms/step\n",
            "Epoch 88/200\n",
            "1/1 - 0s - loss: 0.0343 - acc: 0.9786 - val_loss: 0.8846 - val_acc: 0.7960 - 155ms/epoch - 155ms/step\n",
            "Epoch 89/200\n",
            "1/1 - 0s - loss: 0.0096 - acc: 1.0000 - val_loss: 0.9022 - val_acc: 0.7880 - 145ms/epoch - 145ms/step\n",
            "Epoch 90/200\n",
            "1/1 - 0s - loss: 0.0198 - acc: 0.9929 - val_loss: 0.9185 - val_acc: 0.7820 - 154ms/epoch - 154ms/step\n",
            "Epoch 91/200\n",
            "1/1 - 0s - loss: 0.0175 - acc: 1.0000 - val_loss: 0.9335 - val_acc: 0.7800 - 157ms/epoch - 157ms/step\n",
            "Epoch 92/200\n",
            "1/1 - 0s - loss: 0.0201 - acc: 1.0000 - val_loss: 0.9465 - val_acc: 0.7760 - 145ms/epoch - 145ms/step\n",
            "Epoch 93/200\n",
            "1/1 - 0s - loss: 0.0205 - acc: 1.0000 - val_loss: 0.9562 - val_acc: 0.7760 - 146ms/epoch - 146ms/step\n",
            "Epoch 94/200\n",
            "1/1 - 0s - loss: 0.0186 - acc: 1.0000 - val_loss: 0.9635 - val_acc: 0.7780 - 148ms/epoch - 148ms/step\n",
            "Epoch 95/200\n",
            "1/1 - 0s - loss: 0.0296 - acc: 0.9929 - val_loss: 0.9716 - val_acc: 0.7740 - 152ms/epoch - 152ms/step\n",
            "Epoch 96/200\n",
            "1/1 - 0s - loss: 0.0164 - acc: 1.0000 - val_loss: 0.9797 - val_acc: 0.7720 - 142ms/epoch - 142ms/step\n",
            "Epoch 97/200\n",
            "1/1 - 0s - loss: 0.0090 - acc: 1.0000 - val_loss: 0.9869 - val_acc: 0.7720 - 145ms/epoch - 145ms/step\n",
            "Epoch 98/200\n",
            "1/1 - 0s - loss: 0.0287 - acc: 0.9929 - val_loss: 0.9900 - val_acc: 0.7740 - 145ms/epoch - 145ms/step\n",
            "Epoch 99/200\n",
            "1/1 - 0s - loss: 0.0247 - acc: 1.0000 - val_loss: 0.9907 - val_acc: 0.7760 - 153ms/epoch - 153ms/step\n",
            "Epoch 100/200\n",
            "1/1 - 0s - loss: 0.0181 - acc: 1.0000 - val_loss: 0.9898 - val_acc: 0.7780 - 147ms/epoch - 147ms/step\n",
            "Epoch 101/200\n",
            "1/1 - 0s - loss: 0.0216 - acc: 0.9929 - val_loss: 0.9867 - val_acc: 0.7780 - 144ms/epoch - 144ms/step\n",
            "Epoch 102/200\n",
            "1/1 - 0s - loss: 0.0330 - acc: 0.9857 - val_loss: 0.9798 - val_acc: 0.7780 - 152ms/epoch - 152ms/step\n",
            "Epoch 103/200\n",
            "1/1 - 0s - loss: 0.0125 - acc: 1.0000 - val_loss: 0.9743 - val_acc: 0.7800 - 146ms/epoch - 146ms/step\n",
            "Epoch 104/200\n",
            "1/1 - 0s - loss: 0.0630 - acc: 0.9857 - val_loss: 0.9645 - val_acc: 0.7820 - 156ms/epoch - 156ms/step\n",
            "Epoch 105/200\n",
            "1/1 - 0s - loss: 0.0401 - acc: 0.9857 - val_loss: 0.9553 - val_acc: 0.7860 - 143ms/epoch - 143ms/step\n",
            "Epoch 106/200\n",
            "1/1 - 0s - loss: 0.0052 - acc: 1.0000 - val_loss: 0.9478 - val_acc: 0.7880 - 145ms/epoch - 145ms/step\n",
            "Epoch 107/200\n",
            "1/1 - 0s - loss: 0.0547 - acc: 0.9857 - val_loss: 0.9426 - val_acc: 0.7860 - 150ms/epoch - 150ms/step\n",
            "Epoch 108/200\n",
            "1/1 - 0s - loss: 0.0286 - acc: 1.0000 - val_loss: 0.9425 - val_acc: 0.7880 - 153ms/epoch - 153ms/step\n",
            "Epoch 109/200\n",
            "1/1 - 0s - loss: 0.0138 - acc: 0.9929 - val_loss: 0.9465 - val_acc: 0.7860 - 145ms/epoch - 145ms/step\n",
            "Epoch 110/200\n",
            "1/1 - 0s - loss: 0.0098 - acc: 1.0000 - val_loss: 0.9521 - val_acc: 0.7900 - 142ms/epoch - 142ms/step\n",
            "Epoch 111/200\n",
            "1/1 - 0s - loss: 0.0146 - acc: 1.0000 - val_loss: 0.9554 - val_acc: 0.7860 - 152ms/epoch - 152ms/step\n",
            "Epoch 112/200\n",
            "1/1 - 0s - loss: 0.0327 - acc: 0.9857 - val_loss: 0.9559 - val_acc: 0.7920 - 141ms/epoch - 141ms/step\n",
            "Epoch 113/200\n",
            "1/1 - 0s - loss: 0.0143 - acc: 1.0000 - val_loss: 0.9549 - val_acc: 0.7940 - 151ms/epoch - 151ms/step\n",
            "Epoch 114/200\n",
            "1/1 - 0s - loss: 0.0165 - acc: 1.0000 - val_loss: 0.9522 - val_acc: 0.7960 - 159ms/epoch - 159ms/step\n",
            "Epoch 115/200\n",
            "1/1 - 0s - loss: 0.0092 - acc: 1.0000 - val_loss: 0.9500 - val_acc: 0.7960 - 139ms/epoch - 139ms/step\n",
            "Epoch 116/200\n",
            "1/1 - 0s - loss: 0.0199 - acc: 0.9929 - val_loss: 0.9439 - val_acc: 0.7960 - 153ms/epoch - 153ms/step\n",
            "Epoch 117/200\n",
            "1/1 - 0s - loss: 0.0076 - acc: 1.0000 - val_loss: 0.9404 - val_acc: 0.7980 - 147ms/epoch - 147ms/step\n",
            "Epoch 118/200\n",
            "1/1 - 0s - loss: 0.0110 - acc: 1.0000 - val_loss: 0.9397 - val_acc: 0.8000 - 163ms/epoch - 163ms/step\n",
            "Epoch 119/200\n",
            "1/1 - 0s - loss: 0.0341 - acc: 0.9857 - val_loss: 0.9387 - val_acc: 0.8000 - 144ms/epoch - 144ms/step\n",
            "Epoch 120/200\n",
            "1/1 - 0s - loss: 0.0143 - acc: 0.9929 - val_loss: 0.9419 - val_acc: 0.8000 - 149ms/epoch - 149ms/step\n",
            "Epoch 121/200\n",
            "1/1 - 0s - loss: 0.0173 - acc: 1.0000 - val_loss: 0.9468 - val_acc: 0.8020 - 150ms/epoch - 150ms/step\n",
            "Epoch 122/200\n",
            "1/1 - 0s - loss: 0.0125 - acc: 0.9929 - val_loss: 0.9480 - val_acc: 0.8020 - 147ms/epoch - 147ms/step\n",
            "Epoch 123/200\n",
            "1/1 - 0s - loss: 0.0210 - acc: 0.9929 - val_loss: 0.9484 - val_acc: 0.8040 - 150ms/epoch - 150ms/step\n",
            "Epoch 124/200\n",
            "1/1 - 0s - loss: 0.0196 - acc: 0.9929 - val_loss: 0.9509 - val_acc: 0.8040 - 145ms/epoch - 145ms/step\n",
            "Epoch 125/200\n",
            "1/1 - 0s - loss: 0.0160 - acc: 1.0000 - val_loss: 0.9532 - val_acc: 0.8040 - 142ms/epoch - 142ms/step\n",
            "Epoch 126/200\n",
            "1/1 - 0s - loss: 0.0067 - acc: 1.0000 - val_loss: 0.9574 - val_acc: 0.8040 - 150ms/epoch - 150ms/step\n",
            "Epoch 127/200\n",
            "1/1 - 0s - loss: 0.0108 - acc: 1.0000 - val_loss: 0.9625 - val_acc: 0.8080 - 147ms/epoch - 147ms/step\n",
            "Epoch 128/200\n",
            "1/1 - 0s - loss: 0.0283 - acc: 0.9857 - val_loss: 0.9654 - val_acc: 0.8040 - 149ms/epoch - 149ms/step\n",
            "Epoch 129/200\n",
            "1/1 - 0s - loss: 0.0320 - acc: 0.9786 - val_loss: 0.9667 - val_acc: 0.8060 - 148ms/epoch - 148ms/step\n",
            "Epoch 130/200\n",
            "1/1 - 0s - loss: 0.0194 - acc: 0.9929 - val_loss: 0.9737 - val_acc: 0.8020 - 148ms/epoch - 148ms/step\n",
            "Epoch 131/200\n",
            "1/1 - 0s - loss: 0.0162 - acc: 0.9929 - val_loss: 0.9798 - val_acc: 0.8000 - 137ms/epoch - 137ms/step\n",
            "Epoch 132/200\n",
            "1/1 - 0s - loss: 0.0094 - acc: 1.0000 - val_loss: 0.9869 - val_acc: 0.7940 - 148ms/epoch - 148ms/step\n",
            "Epoch 133/200\n",
            "1/1 - 0s - loss: 0.0114 - acc: 1.0000 - val_loss: 0.9937 - val_acc: 0.7860 - 143ms/epoch - 143ms/step\n"
          ]
        }
      ]
    },
    {
      "cell_type": "code",
      "source": [
        "sg.utils.plot_history(history)\n"
      ],
      "metadata": {
        "colab": {
          "base_uri": "https://localhost:8080/",
          "height": 585
        },
        "id": "qoWozfB1m_vp",
        "outputId": "c76cd93f-1f70-4506-d8ea-4fe40f085461"
      },
      "execution_count": null,
      "outputs": [
        {
          "output_type": "display_data",
          "data": {
            "text/plain": [
              "<Figure size 504x576 with 2 Axes>"
            ],
            "image/png": "[encoded data removed]"
          },
          "metadata": {
            "needs_background": "light"
          }
        }
      ]
    },
    {
      "cell_type": "code",
      "source": [
        "test_gen = generator.flow(test_subjects.index, test_targets)\n"
      ],
      "metadata": {
        "id": "YbsCToo9qXZo"
      },
      "execution_count": null,
      "outputs": []
    },
    {
      "cell_type": "code",
      "source": [
        "test_metrics = model.evaluate(test_gen)\n",
        "print(\"\\nTest Set Metrics:\")\n",
        "for name, val in zip(model.metrics_names, test_metrics):\n",
        "    print(\"\\t{}: {:0.4f}\".format(name, val))"
      ],
      "metadata": {
        "colab": {
          "base_uri": "https://localhost:8080/"
        },
        "id": "-C2zixYRqanY",
        "outputId": "46e076bf-276f-4f36-a23f-baa665006b82"
      },
      "execution_count": null,
      "outputs": [
        {
          "output_type": "stream",
          "name": "stdout",
          "text": [
            "1/1 [==============================] - 0s 68ms/step - loss: 0.9274 - acc: 0.7940\n",
            "\n",
            "Test Set Metrics:\n",
            "\tloss: 0.9274\n",
            "\tacc: 0.7940\n"
          ]
        }
      ]
    },
    {
      "cell_type": "code",
      "source": [
        "\n",
        "all_nodes = node_subjects.index\n",
        "all_gen = generator.flow(all_nodes)\n",
        "all_predictions = model.predict(all_gen)"
      ],
      "metadata": {
        "colab": {
          "base_uri": "https://localhost:8080/"
        },
        "id": "y5m05UhTqdnn",
        "outputId": "e5c9866a-8683-4e03-d747-16fa794fb7fc"
      },
      "execution_count": null,
      "outputs": [
        {
          "output_type": "stream",
          "name": "stdout",
          "text": [
            "1/1 [==============================] - 0s 213ms/step\n"
          ]
        }
      ]
    },
    {
      "cell_type": "code",
      "source": [
        "node_predictions = target_encoding.inverse_transform(all_predictions.squeeze())\n"
      ],
      "metadata": {
        "id": "jNKZwlQVqgYH"
      },
      "execution_count": null,
      "outputs": []
    },
    {
      "cell_type": "code",
      "source": [
        "df = pd.DataFrame({\"Predicted\": node_predictions, \"True\": node_subjects})\n",
        "df.head(20)"
      ],
      "metadata": {
        "id": "AQb-pD3YqiPH",
        "outputId": "97e9a53f-a911-4eff-a0d3-9410d6298d8a",
        "colab": {
          "base_uri": "https://localhost:8080/",
          "height": 677
        }
      },
      "execution_count": null,
      "outputs": [
        {
          "output_type": "execute_result",
          "data": {
            "text/plain": [
              "                      Predicted                    True\n",
              "31336                    Theory         Neural_Networks\n",
              "1061127           Rule_Learning           Rule_Learning\n",
              "1106406  Reinforcement_Learning  Reinforcement_Learning\n",
              "13195    Reinforcement_Learning  Reinforcement_Learning\n",
              "37879     Probabilistic_Methods   Probabilistic_Methods\n",
              "1126012  Reinforcement_Learning   Probabilistic_Methods\n",
              "1107140  Reinforcement_Learning                  Theory\n",
              "1102850                  Theory         Neural_Networks\n",
              "31349                    Theory         Neural_Networks\n",
              "1106418                  Theory                  Theory\n",
              "1123188         Neural_Networks         Neural_Networks\n",
              "1128990                  Theory      Genetic_Algorithms\n",
              "109323    Probabilistic_Methods   Probabilistic_Methods\n",
              "217139               Case_Based              Case_Based\n",
              "31353                    Theory         Neural_Networks\n",
              "32083           Neural_Networks         Neural_Networks\n",
              "1126029  Reinforcement_Learning  Reinforcement_Learning\n",
              "1118017         Neural_Networks         Neural_Networks\n",
              "49482           Neural_Networks         Neural_Networks\n",
              "753265                   Theory         Neural_Networks"
            ],
            "text/html": [
              "\n",
              "  <div id=\"df-2c7f53be-891a-4244-860d-5e0e4e05a4ae\">\n",
              "    <div class=\"colab-df-container\">\n",
              "      <div>\n",
              "<style scoped>\n",
              "    .dataframe tbody tr th:only-of-type {\n",
              "        vertical-align: middle;\n",
              "    }\n",
              "\n",
              "    .dataframe tbody tr th {\n",
              "        vertical-align: top;\n",
              "    }\n",
              "\n",
              "    .dataframe thead th {\n",
              "        text-align: right;\n",
              "    }\n",
              "</style>\n",
              "<table border=\"1\" class=\"dataframe\">\n",
              "  <thead>\n",
              "    <tr style=\"text-align: right;\">\n",
              "      <th></th>\n",
              "      <th>Predicted</th>\n",
              "      <th>True</th>\n",
              "    </tr>\n",
              "  </thead>\n",
              "  <tbody>\n",
              "    <tr>\n",
              "      <th>31336</th>\n",
              "      <td>Theory</td>\n",
              "      <td>Neural_Networks</td>\n",
              "    </tr>\n",
              "    <tr>\n",
              "      <th>1061127</th>\n",
              "      <td>Rule_Learning</td>\n",
              "      <td>Rule_Learning</td>\n",
              "    </tr>\n",
              "    <tr>\n",
              "      <th>1106406</th>\n",
              "      <td>Reinforcement_Learning</td>\n",
              "      <td>Reinforcement_Learning</td>\n",
              "    </tr>\n",
              "    <tr>\n",
              "      <th>13195</th>\n",
              "      <td>Reinforcement_Learning</td>\n",
              "      <td>Reinforcement_Learning</td>\n",
              "    </tr>\n",
              "    <tr>\n",
              "      <th>37879</th>\n",
              "      <td>Probabilistic_Methods</td>\n",
              "      <td>Probabilistic_Methods</td>\n",
              "    </tr>\n",
              "    <tr>\n",
              "      <th>1126012</th>\n",
              "      <td>Reinforcement_Learning</td>\n",
              "      <td>Probabilistic_Methods</td>\n",
              "    </tr>\n",
              "    <tr>\n",
              "      <th>1107140</th>\n",
              "      <td>Reinforcement_Learning</td>\n",
              "      <td>Theory</td>\n",
              "    </tr>\n",
              "    <tr>\n",
              "      <th>1102850</th>\n",
              "      <td>Theory</td>\n",
              "      <td>Neural_Networks</td>\n",
              "    </tr>\n",
              "    <tr>\n",
              "      <th>31349</th>\n",
              "      <td>Theory</td>\n",
              "      <td>Neural_Networks</td>\n",
              "    </tr>\n",
              "    <tr>\n",
              "      <th>1106418</th>\n",
              "      <td>Theory</td>\n",
              "      <td>Theory</td>\n",
              "    </tr>\n",
              "    <tr>\n",
              "      <th>1123188</th>\n",
              "      <td>Neural_Networks</td>\n",
              "      <td>Neural_Networks</td>\n",
              "    </tr>\n",
              "    <tr>\n",
              "      <th>1128990</th>\n",
              "      <td>Theory</td>\n",
              "      <td>Genetic_Algorithms</td>\n",
              "    </tr>\n",
              "    <tr>\n",
              "      <th>109323</th>\n",
              "      <td>Probabilistic_Methods</td>\n",
              "      <td>Probabilistic_Methods</td>\n",
              "    </tr>\n",
              "    <tr>\n",
              "      <th>217139</th>\n",
              "      <td>Case_Based</td>\n",
              "      <td>Case_Based</td>\n",
              "    </tr>\n",
              "    <tr>\n",
              "      <th>31353</th>\n",
              "      <td>Theory</td>\n",
              "      <td>Neural_Networks</td>\n",
              "    </tr>\n",
              "    <tr>\n",
              "      <th>32083</th>\n",
              "      <td>Neural_Networks</td>\n",
              "      <td>Neural_Networks</td>\n",
              "    </tr>\n",
              "    <tr>\n",
              "      <th>1126029</th>\n",
              "      <td>Reinforcement_Learning</td>\n",
              "      <td>Reinforcement_Learning</td>\n",
              "    </tr>\n",
              "    <tr>\n",
              "      <th>1118017</th>\n",
              "      <td>Neural_Networks</td>\n",
              "      <td>Neural_Networks</td>\n",
              "    </tr>\n",
              "    <tr>\n",
              "      <th>49482</th>\n",
              "      <td>Neural_Networks</td>\n",
              "      <td>Neural_Networks</td>\n",
              "    </tr>\n",
              "    <tr>\n",
              "      <th>753265</th>\n",
              "      <td>Theory</td>\n",
              "      <td>Neural_Networks</td>\n",
              "    </tr>\n",
              "  </tbody>\n",
              "</table>\n",
              "</div>\n",
              "      <button class=\"colab-df-convert\" onclick=\"convertToInteractive('df-2c7f53be-891a-4244-860d-5e0e4e05a4ae')\"\n",
              "              title=\"Convert this dataframe to an interactive table.\"\n",
              "              style=\"display:none;\">\n",
              "        \n",
              "  <svg xmlns=\"http://www.w3.org/2000/svg\" height=\"24px\"viewBox=\"0 0 24 24\"\n",
              "       width=\"24px\">\n",
              "    <path d=\"M0 0h24v24H0V0z\" fill=\"none\"/>\n",
              "    <path d=\"M18.56 5.44l.94 2.06.94-2.06 2.06-.94-2.06-.94-.94-2.06-.94 2.06-2.06.94zm-11 1L8.5 8.5l.94-2.06 2.06-.94-2.06-.94L8.5 2.5l-.94 2.06-2.06.94zm10 10l.94 2.06.94-2.06 2.06-.94-2.06-.94-.94-2.06-.94 2.06-2.06.94z\"/><path d=\"M17.41 7.96l-1.37-1.37c-.4-.4-.92-.59-1.43-.59-.52 0-1.04.2-1.43.59L10.3 9.45l-7.72 7.72c-.78.78-.78 2.05 0 2.83L4 21.41c.39.39.9.59 1.41.59.51 0 1.02-.2 1.41-.59l7.78-7.78 2.81-2.81c.8-.78.8-2.07 0-2.86zM5.41 20L4 18.59l7.72-7.72 1.47 1.35L5.41 20z\"/>\n",
              "  </svg>\n",
              "      </button>\n",
              "      \n",
              "  <style>\n",
              "    .colab-df-container {\n",
              "      display:flex;\n",
              "      flex-wrap:wrap;\n",
              "      gap: 12px;\n",
              "    }\n",
              "\n",
              "    .colab-df-convert {\n",
              "      background-color: #E8F0FE;\n",
              "      border: none;\n",
              "      border-radius: 50%;\n",
              "      cursor: pointer;\n",
              "      display: none;\n",
              "      fill: #1967D2;\n",
              "      height: 32px;\n",
              "      padding: 0 0 0 0;\n",
              "      width: 32px;\n",
              "    }\n",
              "\n",
              "    .colab-df-convert:hover {\n",
              "      background-color: #E2EBFA;\n",
              "      box-shadow: 0px 1px 2px rgba(60, 64, 67, 0.3), 0px 1px 3px 1px rgba(60, 64, 67, 0.15);\n",
              "      fill: #174EA6;\n",
              "    }\n",
              "\n",
              "    [theme=dark] .colab-df-convert {\n",
              "      background-color: #3B4455;\n",
              "      fill: #D2E3FC;\n",
              "    }\n",
              "\n",
              "    [theme=dark] .colab-df-convert:hover {\n",
              "      background-color: #434B5C;\n",
              "      box-shadow: 0px 1px 3px 1px rgba(0, 0, 0, 0.15);\n",
              "      filter: drop-shadow(0px 1px 2px rgba(0, 0, 0, 0.3));\n",
              "      fill: #FFFFFF;\n",
              "    }\n",
              "  </style>\n",
              "\n",
              "      <script>\n",
              "        const buttonEl =\n",
              "          document.querySelector('#df-2c7f53be-891a-4244-860d-5e0e4e05a4ae button.colab-df-convert');\n",
              "        buttonEl.style.display =\n",
              "          google.colab.kernel.accessAllowed ? 'block' : 'none';\n",
              "\n",
              "        async function convertToInteractive(key) {\n",
              "          const element = document.querySelector('#df-2c7f53be-891a-4244-860d-5e0e4e05a4ae');\n",
              "          const dataTable =\n",
              "            await google.colab.kernel.invokeFunction('convertToInteractive',\n",
              "                                                     [key], {});\n",
              "          if (!dataTable) return;\n",
              "\n",
              "          const docLinkHtml = 'Like what you see? Visit the ' +\n",
              "            '<a target=\"_blank\" href=https://colab.research.google.com/notebooks/data_table.ipynb>data table notebook</a>'\n",
              "            + ' to learn more about interactive tables.';\n",
              "          element.innerHTML = '';\n",
              "          dataTable['output_type'] = 'display_data';\n",
              "          await google.colab.output.renderOutput(dataTable, element);\n",
              "          const docLink = document.createElement('div');\n",
              "          docLink.innerHTML = docLinkHtml;\n",
              "          element.appendChild(docLink);\n",
              "        }\n",
              "      </script>\n",
              "    </div>\n",
              "  </div>\n",
              "  "
            ]
          },
          "metadata": {},
          "execution_count": 27
        }
      ]
    },
    {
      "cell_type": "code",
      "source": [],
      "metadata": {
        "id": "O_H8xzjrqk33"
      },
      "execution_count": null,
      "outputs": []
    }
  ]
}